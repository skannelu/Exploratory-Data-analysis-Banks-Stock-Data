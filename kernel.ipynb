{
  "cells": [
    {
      "metadata": {
        "_uuid": "8f2839f25d086af736a60e9eeb907d3b93b6e0e5",
        "_cell_guid": "b1076dfc-b9ad-4769-8c92-a6c4dae69d19",
        "trusted": true
      },
      "cell_type": "code",
      "source": "# This Python 3 environment comes with many helpful analytics libraries installed\n# It is defined by the kaggle/python docker image: https://github.com/kaggle/docker-python\n# For example, here's several helpful packages to load in \n\nimport numpy as np # linear algebra\nimport pandas as pd # data processing, CSV file I/O (e.g. pd.read_csv)\n\n# Input data files are available in the \"../input/\" directory.\n# For example, running this (by clicking run or pressing Shift+Enter) will list the files in the input directory\n\nimport os\nprint(os.listdir(\"../input\"))\n\n# Any results you write to the current directory are saved as output.",
      "execution_count": null,
      "outputs": []
    },
    {
      "metadata": {
        "_cell_guid": "79c7e3d0-c299-4dcb-8224-4455121ee9b0",
        "_uuid": "d629ff2d2480ee46fbb7e2d37f6b5fab8052498a",
        "trusted": true
      },
      "cell_type": "code",
      "source": "import pandas as pd\nimport numpy as np\nimport datetime\n%matplotlib inline\n\n#Bank of America data frame\nBAC = pd.read_csv('../input/BAC.csv')\n#Citi Group data frame\nC = pd.read_csv('../input/C.csv')\n#Goldman Sach's data frame\nGS = pd.read_csv('../input/GS.csv')\n#JP Morgan Chase data frame\nJPM = pd.read_csv('../input/JPM.csv')\n#Morgan Stanley data frame\nMS = pd.read_csv('../input/MS.csv')\n#Wells Fargo data frame\nWFC = pd.read_csv('../input/WFC.csv')\n\nBAC.set_index('Date',inplace=True)\nC.set_index('Date',inplace=True)\nGS.set_index('Date',inplace=True)\nJPM.set_index('Date',inplace=True)\nMS.set_index('Date',inplace=True)\nWFC.set_index('Date',inplace=True)\n\ntickers = ['BAC','C','GS','JPM','MS','WFC']\nbank_stocks = pd.concat([BAC,C,GS,JPM,MS,WFC],axis=1,keys=tickers)\nbank_stocks.columns.names = ['Bank Ticker', 'Stock Info']\n\n#Exploratory Data Analysis\n#Maximun close price for each bank's stock throughout the time period\n#for tick in tickers: print(tick,bank_stocks[tick]['Close'].max())\n# (OR)\nbank_stocks.xs(key='Close',axis=1,level='Stock Info').max()\n\n#Creating 'Returns'Data Frame which contains the returns for each bank's stock (returns=price at a date/ price at a previous date)\nreturns = pd.DataFrame()\nfor tick in tickers:\n    returns[tick+' Return'] = bank_stocks[tick]['Close'].pct_change()\n\nreturns.head()\n#Pairplot on the returns DataFrame. Looks like Citi Group stocks stand out when compared to rest of the banks as it has no growth in its returns throughout the time\nimport seaborn as sns\n#sns.pairplot(returns[1:])\n# Dates on which each bank stock had their best and worst single day returns\nreturns.idxmin()\nreturns.idxmax()\n#Highest Risk over the entire time period and during the year 2015\n#High Std Deviation, High Risk\nreturns.std()\n#During 2015\nreturns.loc['2015-01-01':'2015-12-31'].std()\n#During 2006 to 2015, Citi Group has the higest risk\nreturns.loc['2006-01-01':'2015-12-31'].std()\n#Distplot of 2015 returns for Morgan Stanley\n#sns.distplot(returns.loc['2015-01-01':'2015-12-31']['MS Return'],color='green',bins=100)\n#Distplot of 2008 returns for CitiGroup\n#sns.distplot(returns.loc['2008-01-01':'2008-12-31']['C Return'],color='red',bins=100)\n\nimport matplotlib.pyplot as plt\nimport seaborn as sns\nsns.set_style('whitegrid')\n%matplotlib inline\n\nimport plotly\nimport cufflinks as cf\ncf.go_offline()\n\n#Lineplot to see closing price for each bank from 2006 to 2015\nfor tick in tickers:\n    bank_stocks[tick]['Close'].plot(figsize=(12,4),label=tick)\n\nplt.legend()\n# (OR) bank_stocks.xs(key='Close',axis=1,level='Stock Info').plot()\n# plotly\nbank_stocks.xs(key='Open',axis=1,level='Stock Info').iplot()\nbank_stocks.xs(key='Close',axis=1,level='Stock Info').iplot()\nbank_stocks.xs(key='Volume',axis=1,level='Stock Info').iplot()\n\n#Rolling 30 day average against the Close Price for Bank Of America's stock for the year 2006\nplt.figure(figsize=(12,6))\nBAC['Close'].loc['2006-01-01':'2007-01-01'].rolling(window=30).mean().plot(label='30 Day Avg')\nBAC['Close'].loc['2006-01-01':'2007-01-01'].plot(label='BAC CLOSE 2006-2007')\nplt.legend()\n#Rolling 30 day average against the Close Price for Bank Of America's stock for the year 2015\nplt.figure(figsize=(12,6))\nBAC['Close'].loc['2014-01-01':'2015-01-01'].rolling(window=30).mean().plot(label='30 Day Avg')\nBAC['Close'].loc['2014-01-01':'2015-01-01'].plot(label='BAC CLOSE 2014-2015')\nplt.legend()\n\n#Heatmap of the correlation between the stocks Open Price\nsns.heatmap(bank_stocks.xs(key='Open',axis=1,level='Stock Info').corr(),annot=True)\n#Clustermap of the correlations between the stocks Open Price\nsns.clustermap(bank_stocks.xs(key='Open',axis=1,level='Stock Info').corr(),annot=True)\n\n#Heatmap of the correlation between the stocks Close Price\nsns.heatmap(bank_stocks.xs(key='Close',axis=1,level='Stock Info').corr(),annot=True)\n#Clustermap of the correlations between the stocks Close Price\nsns.clustermap(bank_stocks.xs(key='Close',axis=1,level='Stock Info').corr(),annot=True)\n\n#Heatmap of the correlation between the stocks Volume Price\nsns.heatmap(bank_stocks.xs(key='Volume',axis=1,level='Stock Info').corr(),annot=True)\n#Clustermap of the correlations between the stocks Volume Price\nsns.clustermap(bank_stocks.xs(key='Volume',axis=1,level='Stock Info').corr(),annot=True)\n\nclose_corr = bank_stocks.xs(key='Close',axis=1,level='Stock Info').corr()\nclose_corr.iplot(kind='heatmap',colorscale='rdylbu')\n\n#Technical Analysis Reports using cufflinks library\n#Candle plot of each bank stock from Jan 1st 2015 to Jan 1st 2016\nBAC[['Open','High','Low','Close']].loc['2015-01-01':'2016-01-01'].iplot(kind='candle',title='Candle plot for BAC')\nC[['Open','High','Low','Close']].loc['2015-01-01':'2016-01-01'].iplot(kind='candle',title='Candle plot for C')\nGS[['Open','High','Low','Close']].loc['2015-01-01':'2016-01-01'].iplot(kind='candle',title='Candle plot for GS')\nJPM[['Open','High','Low','Close']].loc['2015-01-01':'2016-01-01'].iplot(kind='candle',title='Candle plot for JPM')\nMS[['Open','High','Low','Close']].loc['2015-01-01':'2016-01-01'].iplot(kind='candle',title='Candle plot for MS')\nWFC[['Open','High','Low','Close']].loc['2015-01-01':'2016-01-01'].iplot(kind='candle',title='Candle plot for WFC')\n\n#Simple Moving Averages plot of each bank for the year 2015\nBAC['Close'].loc['2015-01-01':'2016-01-01'].ta_plot(study='sma',periods=[13,21,55],title='Simple Moving Averages BAC')\nC['Close'].loc['2015-01-01':'2016-01-01'].ta_plot(study='sma',periods=[13,21,55],title='Simple Moving Averages C')\nGS['Close'].loc['2015-01-01':'2016-01-01'].ta_plot(study='sma',periods=[13,21,55],title='Simple Moving Averages GS')\nJPM['Close'].loc['2015-01-01':'2016-01-01'].ta_plot(study='sma',periods=[13,21,55],title='Simple Moving Averages JPM')\nMS['Close'].loc['2015-01-01':'2016-01-01'].ta_plot(study='sma',periods=[13,21,55],title='Simple Moving Averages MS')\nWFC['Close'].loc['2015-01-01':'2016-01-01'].ta_plot(study='sma',periods=[13,21,55],title='Simple Moving Averages WFC')\n\n#Bollinger Band Plot for each bank for the year 2015\nBAC['Close'].loc['2015-01-01':'2016-01-01'].ta_plot(study='boll',title='BAC')\nC['Close'].loc['2015-01-01':'2016-01-01'].ta_plot(study='boll',title='C')\nGS['Close'].loc['2015-01-01':'2016-01-01'].ta_plot(study='boll',title='GS')\nJPM['Close'].loc['2015-01-01':'2016-01-01'].ta_plot(study='boll',title='JPM')\nMS['Close'].loc['2015-01-01':'2016-01-01'].ta_plot(study='boll',title='MS')\nWFC['Close'].loc['2015-01-01':'2016-01-01'].ta_plot(study='boll',title='WFC')\n",
      "execution_count": null,
      "outputs": []
    },
    {
      "metadata": {
        "trusted": true,
        "_uuid": "1935a6af3c3a9ec69f0c8edb43b7929a2e2f6daa"
      },
      "cell_type": "code",
      "source": "",
      "execution_count": null,
      "outputs": []
    }
  ],
  "metadata": {
    "kernelspec": {
      "display_name": "Python 3",
      "language": "python",
      "name": "python3"
    },
    "language_info": {
      "name": "python",
      "version": "3.6.6",
      "mimetype": "text/x-python",
      "codemirror_mode": {
        "name": "ipython",
        "version": 3
      },
      "pygments_lexer": "ipython3",
      "nbconvert_exporter": "python",
      "file_extension": ".py"
    }
  },
  "nbformat": 4,
  "nbformat_minor": 1
}